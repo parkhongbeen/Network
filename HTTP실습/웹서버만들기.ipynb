{
 "cells": [
  {
   "cell_type": "markdown",
   "metadata": {},
   "source": [
    "### 1. HTTP웹서버 만들기\n",
    "\n",
    "1. TCP/IP 프로토콜을 사용하는 12345포트로 수신받기(1024byte)\n",
    "2. 웹브라우저를 오픈하고, 개발한 코드에서 선언한 주소로 접속하기\n",
    "(localhost:12345)\n",
    " - 수신된 메세지를 다음 셀에 기재하기"
   ]
  },
  {
   "cell_type": "code",
   "execution_count": 14,
   "metadata": {},
   "outputs": [
    {
     "name": "stdout",
     "output_type": "stream",
     "text": [
      "GET / HTTP/1.1\r\n",
      "Host: localhost:9997\r\n",
      "Connection: keep-alive\r\n",
      "Upgrade-Insecure-Requests: 1\r\n",
      "User-Agent: Mozilla/5.0 (Macintosh; Intel Mac OS X 10_15_3) AppleWebKit/537.36 (KHTML, like Gecko) Chrome/80.0.3987.132 Safari/537.36\r\n",
      "Sec-Fetch-Dest: document\r\n",
      "Accept: text/html,application/xhtml+xml,application/xml;q=0.9,image/webp,image/apng,*/*;q=0.8,application/signed-exchange;v=b3;q=0.9\r\n",
      "Sec-Fetch-Site: none\r\n",
      "Sec-Fetch-Mode: navigate\r\n",
      "Sec-Fetch-User: ?1\r\n",
      "Accept-Encoding: gzip, deflate, br\r\n",
      "Accept-Language: ko-KR,ko;q=0.9,en-US;q=0.8,en;q=0.7\r\n",
      "Cookie: Pycharm-9251863=4611d590-4888-4f02-b18f-d1bf82151cfa; csrftoken=8CGDeYbtsY0f1zHgG6DzieTkaiWwr7vnCjqSc534EgaroCX5leSukKJcmKLQfrY0; _xsrf=2|4a297e8e|35218d7f0ab068fdedf700569b06c8d3|1584000819; username-localhost-8889=\"2|1:0|10:1584294105|23:username-localhost-8889|44:YjkzYmZjMTRmODQ5NDdhNTliMjhmMjlmZDEwYTY2NzU=|64515a49b46d148f02f034ff3cf73b2c41d2abb58dd63e2fd14c1c14caa158d3\"; username-localhost-8888=\"2|1:0|10:1584332144|23:username-localhost-8888|44:Zjc3MTkxZjk5NzgyN\n"
     ]
    }
   ],
   "source": [
    "import socket\n",
    "\n",
    "server_socket = socket.socket(socket.AF_INET, socket.SOCK_STREAM)\n",
    "\n",
    "server_socket.bind(('localhost', 9997))\n",
    "server_socket.listen()\n",
    "\n",
    "client_socket, addr = server_socket.accept()\n",
    "data = client_socket.recv(1024)\n",
    "\n",
    "print(data.decode())\n",
    "client_socket.close()\n",
    "server_socket.close()"
   ]
  },
  {
   "cell_type": "markdown",
   "metadata": {},
   "source": [
    "3. 웹브라우저를 오픈하고, 개발한 코드에서 선언한 주소로 접속하면, Hello Hongbeen!Have a nice day! 라는 문구가 웹브라우저에 뜰 수 있도록 웹서버 구현하기\n",
    "    - 참고: HTTP Response 간단히 만들기\n",
    "        data = \"HTTP/1.1 200 OK\\r\\n\"\n",
    "        data += \"Content-Type: text/html; charset=utf-       8\\r\\n\"\n",
    "        data += \"\\r\\n\"\n",
    "\n",
    "    - 위와 같이 HTTP Response 헤더를 만든 후, data += HTML데이터로 data를 구성하여, 클라이언트에 전송하면 됨\n",
    "    \n",
    "#### 참고:\n",
    "- \\r: 탈출 문자(Escape Character)는 Carring Return(CR)이란 의미)(Enter)\n",
    "- \\n: Line Feed(LF)란 의미\n",
    "- \\r\\n: 보통 텍스트 파일에서 줄을 바꿀 때\n",
    " "
   ]
  },
  {
   "cell_type": "code",
   "execution_count": null,
   "metadata": {},
   "outputs": [],
   "source": [
    "import socket\n",
    "\n",
    "def operate_web_server():\n",
    "    serversocket = socket.socket(socket.AF_INET, socket.SOCK_STREAM)\n",
    "    serversocket.bind(('localhost', 9998))\n",
    "    serversocket.listen()\n",
    "    \n",
    "    while True:\n",
    "        (clientsocket, address) = serversocket.accept()\n",
    "        rd = clientsocket.recv(5000).decode()\n",
    "        data = \"HTTP/1.1 200 OK\\r\\n\"\n",
    "        data += \"Content-Type: text/html; charset=utf-8\\r\\n\"\n",
    "        data += \"\\r\\n\"\n",
    "        data += \"<html><body><b>Hello hongbeen!Have a niceday!</b><br><br>\"\n",
    "        clientsocket.sendall(data.encode())\n",
    "        clientsocket.close()\n",
    "    serversocket.close()\n",
    "\n",
    "print('Access http://localhost:9998')\n",
    "operate_web_server()"
   ]
  },
  {
   "cell_type": "markdown",
   "metadata": {},
   "source": [
    "4. try-except코드를 추가하고, jupyter notebook으로 종료할 수 있도록 만들기\n",
    "\n",
    "    impoet sys\n",
    "    \n",
    "    try:\n",
    "    except:\n",
    "        print(\"Unexpected error\")\n",
    "        for desc in sys.exc_info():\n",
    "            print(desc)\n",
    "    finally:\n",
    "        serversocket.close()"
   ]
  },
  {
   "cell_type": "code",
   "execution_count": 16,
   "metadata": {},
   "outputs": [
    {
     "name": "stdout",
     "output_type": "stream",
     "text": [
      "Access http://localhost:9997\n"
     ]
    }
   ],
   "source": [
    "import socket\n",
    "\n",
    "def operate_web_server():\n",
    "    serversocket = socket.socket(socket.AF_INET, socket.SOCK_STREAM)\n",
    "    serversocket.bind(('localhost', 9997))\n",
    "    serversocket.listen()\n",
    "    \n",
    "    try:\n",
    "        (clientsocket, address) = serversocket.accept()\n",
    "        rd = clientsocket.recv(5000).decode()\n",
    "        data = \"HTTP/1.1 200 OK\\r\\n\"\n",
    "        data += \"Content-Type: text/html; charset=utf-8\\r\\n\"\n",
    "        data += \"\\r\\n\"\n",
    "        data += \"<html><body><b>Hello hongbeen!Have a niceday!</b><br><br>\"\n",
    "        clientsocket.sendall(data.encode())\n",
    "        clientsocket.close()\n",
    "    except:\n",
    "        print(\"Unexpected error\")\n",
    "        for desc in sys.exc_info():\n",
    "            print (desc)\n",
    "    finally:\n",
    "        serversocket.close()\n",
    "        \n",
    "print('Access http://localhost:9997')\n",
    "operate_web_server()"
   ]
  },
  {
   "cell_type": "markdown",
   "metadata": {},
   "source": [
    "5. 서버 실행 및 임의 종료시 다음과 같은 형태로 서버 시작, 종료를 표시할 수 있도록 코드 개선하기\n",
    "\n",
    "```\n",
    "Start WebServer\n",
    "Unexpected error\n",
    "<class 'KeyboardInterrupt'>\n",
    "\n",
    "<traceback object at 0x111818af0>\n",
    "Stop WebServer\n",
    "```"
   ]
  },
  {
   "cell_type": "code",
   "execution_count": 20,
   "metadata": {},
   "outputs": [
    {
     "name": "stdout",
     "output_type": "stream",
     "text": [
      "Access http://localhost:9995\n",
      "Stop WebServer\n"
     ]
    }
   ],
   "source": [
    "import socket\n",
    "\n",
    "def operate_web_server():\n",
    "    serversocket = socket.socket(socket.AF_INET, socket.SOCK_STREAM)\n",
    "    serversocket.bind(('localhost', 9995))\n",
    "    serversocket.listen()\n",
    "    \n",
    "    try:\n",
    "        (clientsocket, address) = serversocket.accept()\n",
    "        rd = clientsocket.recv(5000).decode()\n",
    "        data = \"HTTP/1.1 200 OK\\r\\n\"\n",
    "        data += \"Content-Type: text/html; charset=utf-8\\r\\n\"\n",
    "        data += \"\\r\\n\"\n",
    "        data += \"<html><body><b>Start WebServer<br>Unexpected error</b><br><br>\"\n",
    "        clientsocket.sendall(data.encode())\n",
    "        clientsocket.close()\n",
    "    finally:\n",
    "        serversocket.close()\n",
    "        print(\"Stop WebServer\")\n",
    "        \n",
    "print('Access http://localhost:9995')\n",
    "operate_web_server()"
   ]
  },
  {
   "cell_type": "markdown",
   "metadata": {},
   "source": [
    "6. 프로그램 실행 종료 후, 재실행시 나오는 에러 이해하기\n",
    "\n",
    "`Address already in use`\n",
    "\n",
    "이런 경우는 사용하는 포트 port를 실행중인 프로그램이 사용 하지 않는데도 사용한다고 나오면서 발생되니 해당 프로그램을 강제로 종료하면 됨\n",
    "\n",
    "`$ netstat -lntp`\n",
    "\n",
    "명령어로 해당 포트를 사용하는 프로세스의 PID를 확인한 후\n",
    "\n",
    "`$ sudo kill -9 pid번호`\n"
   ]
  },
  {
   "cell_type": "markdown",
   "metadata": {},
   "source": [
    "<7. 프로그램 실행시, 위의 경우를 해결하기 위해, TCP서버 강제 재실행 코드 넣어주기\n",
    "    - setsocketopt\n",
    "        - 첫번째 인자: 소켓 레벨 - socket.SOL_SOCKET\n",
    "        - 두번째 인자: 소켓 레벨에서 변경 가능한 옵션\n",
    "       - 예) socket.SO_REUSEADDR(이미 bind되어 있는 주소와 포트 재사용)\n",
    "        - 세번째 인자: 본래는 저수준 socketAPI중 하나인, getsocketopt로\n",
    "        setsocketopt에서 설정된 값을 읽을 때,설정 값의 사이즈를 표기하는 것이지만,보통 1로 설정\n",
    "        \n",
    "serversocket.setsockopt(socket.SOL_SOCKET, socket.SO_REUSEADDR, 1)\n",
    "serversocket.bind(('localhost',9300))"
   ]
  },
  {
   "cell_type": "markdown",
   "metadata": {},
   "source": [
    "## 7번은 예제 알려주시면 참고하여 연습해보겠습니다. 죄송합니다."
   ]
  },
  {
   "cell_type": "markdown",
   "metadata": {},
   "source": []
  },
  {
   "cell_type": "code",
   "execution_count": null,
   "metadata": {},
   "outputs": [],
   "source": []
  },
  {
   "cell_type": "code",
   "execution_count": null,
   "metadata": {},
   "outputs": [],
   "source": []
  },
  {
   "cell_type": "code",
   "execution_count": null,
   "metadata": {},
   "outputs": [],
   "source": []
  }
 ],
 "metadata": {
  "kernelspec": {
   "display_name": "Python 3",
   "language": "python",
   "name": "python3"
  },
  "language_info": {
   "codemirror_mode": {
    "name": "ipython",
    "version": 3
   },
   "file_extension": ".py",
   "mimetype": "text/x-python",
   "name": "python",
   "nbconvert_exporter": "python",
   "pygments_lexer": "ipython3",
   "version": "3.7.4"
  }
 },
 "nbformat": 4,
 "nbformat_minor": 4
}
