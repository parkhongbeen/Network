{
 "cells": [
  {
   "cell_type": "code",
   "execution_count": 8,
   "metadata": {},
   "outputs": [
    {
     "name": "stdout",
     "output_type": "stream",
     "text": [
      "2,000\n"
     ]
    }
   ],
   "source": [
    "import requests\n",
    "from bs4 import BeautifulSoup\n",
    "\n",
    "login_url='https://www.hanbit.co.kr/member/login_proc.php'\n",
    "crawl_url='http://www.hanbit.co.kr/myhanbit/myhanbit.html'\n",
    "\n",
    "session = requests.session()\n",
    "\n",
    "params= dict()\n",
    "params['m_id'] = 'pack122'\n",
    "params['m_passwd'] = 'hong1065'\n",
    "\n",
    "res = session.post(login_url, data=params)\n",
    "res.raise_for_status()\n",
    "\n",
    "res = session.get(crawl_url) #위에서 login할때 저장한 값을 갖고 있음\n",
    "soup = BeautifulSoup(res.content, 'html.parser')\n",
    "\n",
    "data = soup.select('dl.mileage_section1 > dd > span')\n",
    "for item in data:\n",
    "    print(item.get_text())"
   ]
  },
  {
   "cell_type": "code",
   "execution_count": null,
   "metadata": {},
   "outputs": [],
   "source": []
  }
 ],
 "metadata": {
  "kernelspec": {
   "display_name": "Python 3",
   "language": "python",
   "name": "python3"
  },
  "language_info": {
   "codemirror_mode": {
    "name": "ipython",
    "version": 3
   },
   "file_extension": ".py",
   "mimetype": "text/x-python",
   "name": "python",
   "nbconvert_exporter": "python",
   "pygments_lexer": "ipython3",
   "version": "3.7.4"
  }
 },
 "nbformat": 4,
 "nbformat_minor": 4
}
