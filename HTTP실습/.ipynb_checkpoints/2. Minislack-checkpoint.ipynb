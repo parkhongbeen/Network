{
 "cells": [
  {
   "cell_type": "markdown",
   "metadata": {},
   "source": [
    "### 2. Mini-Slack 일부 기능 구현하기\n",
    "- 메세지 수신 채널 리스트 보여주는 페이지 만들기\n",
    "- 시나리오\n",
    "  - localhost:9300 으로 접속하면, redis pubsub 기능을 사용하여 메세지 수신 채널 리스트를 보여주는 웹페이지를 보여주기\n",
    "  - 다음과 같은 형태로 보여주기\n",
    "\n",
    "<pre>\n",
    "<b>Channel List</b>\n",
    "\n",
    "- announcement(2)\n",
    "- q&a(2)\n",
    "</pre>\n",
    "\n",
    "> 채널명(접속자수)\n",
    "\n",
    "\n",
    "- 참고\n",
    "  - redis 접속\n",
    "    ```\n",
    "    redis_ins = redis.Redis(host='localhost', port=6379)    \n",
    "    ```\n",
    "\n",
    "  - redis pubsub 접속 및 채널 이름 정보 가져오기\n",
    "    ```\n",
    "    pubsub_ins = redis_ins.pubsub()            \n",
    "    channels = redis_ins.pubsub_channels()\n",
    "    ```\n",
    "\n",
    "  - redis pubsub 채널 접속자 수 가져오기\n",
    "    ```\n",
    "    channel_status = redis_ins.pubsub_numsub(channel)\n",
    "    print(channel_status[0][1])\n",
    "    ```"
   ]
  },
  {
   "cell_type": "markdown",
   "metadata": {},
   "source": [
    "### 참고: redis 설치\n",
    "- 맥 또는 리눅스\n",
    "  - 윈도우 환경의 경우, AWS EC2에서 실행 권장\n",
    "\n",
    "\n",
    "- redis 설치\n",
    "  - 맥\n",
    "    ```\n",
    "    1. brew install redis    \n",
    "    2. brew services start redis\n",
    "    ```\n",
    "\n",
    "  - 리눅스\n",
    "    ```\n",
    "    1. sudo add-apt-repository ppa:chris-lea/redis-server\n",
    "    2. sudo apt-get update\n",
    "    3. sudo apt-get install redis-server\n",
    "       - redis client 도 함께 설치됨\n",
    "    4. sudo vi /etc/redis/redis.conf\n",
    "    5. #bind 127.0.0.1 -> bind 0.0.0.0 로 변경 후 저장\n",
    "    6. sudo systemctl start redis-server.service\n",
    "    7. redis-cli\n",
    "    8. $ ping\n",
    "       PONG\n",
    "    9. exit\n",
    "    10. sudo systemctl stop redis-server.service     # redis 서버 중지\n",
    "    11. sudo systemctl start redis-server.service    # redis 서버 시작\n",
    "    12. sudo systemctl start redis-server.service    # redis 서버 재시작    \n",
    "    ```\n",
    "\n",
    "- 파이썬 redis 라이브러리 설치\n",
    "  ```\n",
    "  pip install redis\n",
    "  ```"
   ]
  },
  {
   "cell_type": "markdown",
   "metadata": {},
   "source": [
    "### 3. Mini-Slack 일부 기능에 Multi Thread 지원하기\n",
    "- redis pubsub 채널 정보 확인 및 채널 리스트 페이지를 만들어 리턴해주는 기능을 쓰레드로 동작하도록 함\n",
    "- 수신 대기 및 클라이언트 접속을 처리해주는 부분과 웹페이지 요청 처리 부분을 분리하여 성능 개선"
   ]
  },
  {
   "cell_type": "markdown",
   "metadata": {},
   "source": [
    "### 참고: Mini-Slack 채널 접속 및 수신 하기\n",
    "- 주요 코드\n",
    "  - redis.Redis(): default로 자기 PC에 있는 redis에 접속함\n",
    "  - pubsub(): pubsub 메커니즘을 사용하기 위한 인스턴스 생성\n",
    "  - subscribe(채널명=함수명): 해당 채널명으로 데이터 수신시, 명시된 함수를 호출\n",
    "  - run_in_thread(sleep_time=시간)\n",
    "    - 해당 채널명의 데이터 수신을 위해, 별도 쓰레드를 생성해서, 루프를 돌며 해당 채널의 데이터를 확인하는 기능\n",
    "    - sleep_time 명시를 통해서, 루프를 돌때, 일정시간 sleep 하여, 해당 채널 외에 프로세스가 처리해야하는 바를 처리함 (보통 0.001 로 넣음)"
   ]
  },
  {
   "cell_type": "code",
   "execution_count": null,
   "metadata": {},
   "outputs": [],
   "source": [
    "import time, redis, sys\n",
    "\n",
    "redis_ins = redis.Redis(host=REDIS_HOST_ADDR, port=6379)\n",
    "pubsub_ins = redis_ins.pubsub()\n",
    "\n",
    "def handler(message):\n",
    "    print(message['data'].decode('utf-8'))\n",
    "\n",
    "pubsub_ins.subscribe(my_channel=handler)\n",
    "thread = pubsub_ins.run_in_thread(sleep_time=0.001)"
   ]
  },
  {
   "cell_type": "markdown",
   "metadata": {},
   "source": [
    "### 참고: Mini-Slack 채널 송신 하기\n",
    "- 주요 코드\n",
    "  - redis.Redis(): default로 자기 PC에 있는 redis에 접속함\n",
    "  - pubsub(): pubsub 메커니즘을 사용하기 위한 인스턴스 생성\n",
    "  - publish(채널명, 데이터): 해당 채널명으로 데이터를 송신"
   ]
  },
  {
   "cell_type": "code",
   "execution_count": null,
   "metadata": {},
   "outputs": [],
   "source": [
    "import redis\n",
    "\n",
    "redis_ins = redis.Redis(host=REDIS_HOST_ADDR, port=6379)\n",
    "pubsub_ins = redis_ins.pubsub()\n",
    "\n",
    "redis_ins.publish('my_channel', 'example data')"
   ]
  }
 ],
 "metadata": {
  "kernelspec": {
   "display_name": "Python 3",
   "language": "python",
   "name": "python3"
  },
  "language_info": {
   "codemirror_mode": {
    "name": "ipython",
    "version": 3
   },
   "file_extension": ".py",
   "mimetype": "text/x-python",
   "name": "python",
   "nbconvert_exporter": "python",
   "pygments_lexer": "ipython3",
   "version": "3.7.4"
  }
 },
 "nbformat": 4,
 "nbformat_minor": 4
}
