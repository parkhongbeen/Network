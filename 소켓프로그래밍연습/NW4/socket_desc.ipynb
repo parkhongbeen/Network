{
 "cells": [
  {
   "cell_type": "markdown",
   "metadata": {},
   "source": [
    "### 소켓 프로그래밍\n",
    "- 네트워크 프로그래밍을 위한 기본 API\n",
    "- 소켓: 일종의 데이터 통로를 만들어주는 API\n",
    "\n",
    "<img src=\"https://www.fun-coding.org/00_Images/socket_ex.png\" width=300>"
   ]
  },
  {
   "cell_type": "markdown",
   "metadata": {},
   "source": [
    "### TCP 소켓 프로그래밍"
   ]
  },
  {
   "cell_type": "markdown",
   "metadata": {},
   "source": [
    "### TCP 서버 사이드 소켓 프로그래밍\n",
    "1. socket 생성: socket.socket(socket.AF_INET, socket.SOCK_STREAM)\n",
    "2. 포트 연결(bind): socket.bind((IP주소, 포트번호))\n",
    "3. 클라이언트 접속 대기: socket.listen()\n",
    "4. 클라이언트 접속시, 해당 클라이언트를 위한 소켓 생성: socket.accept()\n",
    "5. 클라이언트로부터 데이터 수신: socket.recv()\n",
    "6. 클라이언트에 데이터 송신: socket.sendall()\n",
    "7. 소켓 닫기: socket.close()"
   ]
  },
  {
   "cell_type": "code",
   "execution_count": 20,
   "metadata": {},
   "outputs": [],
   "source": [
    "import socket ## 라이브러리 임포트 (socket)"
   ]
  },
  {
   "cell_type": "markdown",
   "metadata": {},
   "source": [
    "1. socket 생성"
   ]
  },
  {
   "cell_type": "code",
   "execution_count": 21,
   "metadata": {},
   "outputs": [],
   "source": [
    "# socket.AF_INET: IPv4, socket.AF_INET6: IPv6\n",
    "# socket.SOCK_STREAM: TCP, socket.SOCK_DGRAM: UDP\n",
    "server_socket = socket.socket(socket.AF_INET, socket.SOCK_STREAM)"
   ]
  },
  {
   "cell_type": "markdown",
   "metadata": {},
   "source": [
    "2. binding: 포트 연결"
   ]
  },
  {
   "cell_type": "code",
   "execution_count": 22,
   "metadata": {},
   "outputs": [],
   "source": [
    "server_socket.bind(('127.0.0.1', 8888))"
   ]
  },
  {
   "cell_type": "markdown",
   "metadata": {},
   "source": [
    "3. 클라이언트 접속 대기"
   ]
  },
  {
   "cell_type": "code",
   "execution_count": 23,
   "metadata": {},
   "outputs": [],
   "source": [
    "server_socket.listen()"
   ]
  },
  {
   "cell_type": "markdown",
   "metadata": {},
   "source": [
    "4. 클라이언트 접속시, 해당 클라이언트를 위한 소켓 생성"
   ]
  },
  {
   "cell_type": "code",
   "execution_count": 24,
   "metadata": {},
   "outputs": [],
   "source": [
    "client_socket, addr = server_socket.accept()"
   ]
  },
  {
   "cell_type": "code",
   "execution_count": 25,
   "metadata": {},
   "outputs": [
    {
     "data": {
      "text/plain": [
       "<socket.socket fd=59, family=AddressFamily.AF_INET, type=SocketKind.SOCK_STREAM, proto=0, laddr=('127.0.0.1', 9999), raddr=('127.0.0.1', 57035)>"
      ]
     },
     "execution_count": 25,
     "metadata": {},
     "output_type": "execute_result"
    }
   ],
   "source": [
    "client_socket"
   ]
  },
  {
   "cell_type": "code",
   "execution_count": 26,
   "metadata": {},
   "outputs": [
    {
     "data": {
      "text/plain": [
       "('127.0.0.1', 57035)"
      ]
     },
     "execution_count": 26,
     "metadata": {},
     "output_type": "execute_result"
    }
   ],
   "source": [
    "addr"
   ]
  },
  {
   "cell_type": "markdown",
   "metadata": {},
   "source": [
    "5. 클라이언트로부터 데이터 수신"
   ]
  },
  {
   "cell_type": "code",
   "execution_count": 27,
   "metadata": {},
   "outputs": [],
   "source": [
    "# recv(한 번에 수신할 수 있는 최대 데이터 사이즈)\n",
    "# 보통 한 번에 수신할 수 있는 최대 데이터 사이즈는 하드웨어와 네트워크에 맞추기 위해 2의 배수로 작성\n",
    "data = client_socket.recv(1024)"
   ]
  },
  {
   "cell_type": "code",
   "execution_count": 28,
   "metadata": {},
   "outputs": [
    {
     "data": {
      "text/plain": [
       "b'\\xec\\x95\\x88\\xeb\\x85\\x95'"
      ]
     },
     "execution_count": 28,
     "metadata": {},
     "output_type": "execute_result"
    }
   ],
   "source": [
    "data  # 송수신은 0과 1로 이루어진 byte 형태로 데이터가 교환됨"
   ]
  },
  {
   "cell_type": "code",
   "execution_count": 29,
   "metadata": {},
   "outputs": [
    {
     "data": {
      "text/plain": [
       "'안녕'"
      ]
     },
     "execution_count": 29,
     "metadata": {},
     "output_type": "execute_result"
    }
   ],
   "source": [
    "data.decode('utf-8')  # 0과 1로 이루어진 byte 형태를 사람이 인지할 수 있는 인코딩형태로 변경해주기 위해 decode(인코딩타입) 을 사용"
   ]
  },
  {
   "cell_type": "markdown",
   "metadata": {},
   "source": [
    "6. 클라이언트에 데이터 송신\n",
    "   - sendall() 함수는 모든 데이터가 전송될때까지 계속 전송함"
   ]
  },
  {
   "cell_type": "code",
   "execution_count": 30,
   "metadata": {},
   "outputs": [],
   "source": [
    "client_socket.sendall(data)"
   ]
  },
  {
   "cell_type": "markdown",
   "metadata": {},
   "source": [
    "7. socket 닫기"
   ]
  },
  {
   "cell_type": "code",
   "execution_count": null,
   "metadata": {},
   "outputs": [],
   "source": [
    "client_socket.close()\n",
    "server_socket.close()"
   ]
  },
  {
   "cell_type": "markdown",
   "metadata": {},
   "source": [
    "### 참고: nonblocking socket"
   ]
  },
  {
   "cell_type": "code",
   "execution_count": null,
   "metadata": {},
   "outputs": [],
   "source": [
    "import socket\n",
    "\n",
    "# socket.AF_INET: IPv4, socket.AF_INET6: IPv6\n",
    "# socket.SOCK_STREAM: TCP, socket.SOCK_DGRAM: UDP\n",
    "server_socket = socket.socket(socket.AF_INET, socket.SOCK_STREAM)\n",
    "\n",
    "# binding: 포트 연결\n",
    "server_socket.bind(('127.0.0.1', 9999))\n",
    "\n",
    "# 클라이언트 접속 대기\n",
    "server_socket.listen()\n",
    "\n",
    "# 클라이언트 접속시, 해당 클라이언트를 위한 소켓 생성\n",
    "client_socket, addr = server_socket.accept()\n",
    "\n",
    "# nonblocking socket 만들기 \n",
    "# 디폴트는 blocking socket으로 setblocking(1) 이며, \n",
    "# nonblocking socket 필요시에는 setblocking(0) 으로 해줘야 함\n",
    "client_socket.setblocking(0)\n",
    "\n",
    "while True:                              # 지속적인 데이터 수신을 위해 반복문을 사용하는 것이 일반적임\n",
    "    try:\n",
    "        data = client_socket.recv(4096)  # 클라이언트로부터 데이터 수신\n",
    "        if not data:                     # 클라이언트 소켓 닫기(close()) 시, data가 없는 채로 수신이 되므로\n",
    "            break                        # 해당 조건을 기반으로 반복문을 나가도록 작성할 수 있음\n",
    "        print (data.decode('utf-8'))\n",
    "    except:                             # nonblocking socket 사용시, 수신 데이터가 없을 때는 exception 이 일어남\n",
    "        print ('다른 작업 하기')           # try except 로 해당 exception을 잡아서, 다른 작업 코드를 넣어, 수신대기 없이 다른 작업 가능\n",
    "        \n",
    "# socket 닫기\n",
    "client_socket.close()\n",
    "server_socket.close()"
   ]
  },
  {
   "cell_type": "markdown",
   "metadata": {},
   "source": [
    "### TCP 클라이언트 사이드 소켓 프로그래밍\n",
    "1. socket 생성: socket.socket(socket.AF_INET, socket.SOCK_STREAM)\n",
    "2. 서버 접속: socket.connect((IP주소, 포트번호))\n",
    "3. 서버에 데이터 송신: socket.sendall()\n",
    "4. 서버로부터 데이터 수신: socket.recv()\n",
    "5. 소켓 닫기: socket.close()"
   ]
  },
  {
   "cell_type": "markdown",
   "metadata": {},
   "source": [
    "1. socket 생성"
   ]
  },
  {
   "cell_type": "code",
   "execution_count": 39,
   "metadata": {},
   "outputs": [],
   "source": [
    "# socket.AF_INET: IPv4, socket.AF_INET6: IPv6\n",
    "# socket.SOCK_STREAM: TCP, socket.SOCK_DGRAM: UDP\n",
    "client_socket = socket.socket(socket.AF_INET, socket.SOCK_STREAM)"
   ]
  },
  {
   "cell_type": "markdown",
   "metadata": {},
   "source": [
    "2. 서버 접속"
   ]
  },
  {
   "cell_type": "code",
   "execution_count": null,
   "metadata": {},
   "outputs": [],
   "source": [
    "client_socket.connect(('127.0.0.1', 8888))"
   ]
  },
  {
   "cell_type": "markdown",
   "metadata": {},
   "source": [
    "3. 서버에 데이터 송신\n",
    "   - sendall() 함수는 모든 데이터가 전송될때까지 계속 전송함"
   ]
  },
  {
   "cell_type": "code",
   "execution_count": null,
   "metadata": {},
   "outputs": [],
   "source": [
    "client_socket.sendall(data)"
   ]
  },
  {
   "cell_type": "markdown",
   "metadata": {},
   "source": [
    "4. 서버로부터 데이터 수신"
   ]
  },
  {
   "cell_type": "code",
   "execution_count": null,
   "metadata": {},
   "outputs": [],
   "source": [
    "# recv(한 번에 수신할 수 있는 최대 데이터 사이즈)\n",
    "# 보통 한 번에 수신할 수 있는 최대 데이터 사이즈는 하드웨어와 네트워크에 맞추기 위해 2의 배수로 작성\n",
    "client_socket.recv(1024)"
   ]
  },
  {
   "cell_type": "markdown",
   "metadata": {},
   "source": [
    "5. 소켓 닫기"
   ]
  },
  {
   "cell_type": "code",
   "execution_count": 42,
   "metadata": {},
   "outputs": [],
   "source": [
    "client_socket.close()"
   ]
  },
  {
   "cell_type": "markdown",
   "metadata": {},
   "source": [
    "### 팁: 특정 포트 사용 프로세스 종료하기\n",
    "\n",
    "```\n",
    "sudo lsof -i :포트번호\n",
    "sudo kill -9 프로세스번호\n",
    "sudo netstat -ap | grep 31416\n",
    "```"
   ]
  },
  {
   "cell_type": "markdown",
   "metadata": {},
   "source": [
    "### UDP 소켓 프로그래밍"
   ]
  },
  {
   "cell_type": "markdown",
   "metadata": {},
   "source": [
    "### UDP 서버 사이드 소켓 프로그래밍\n",
    "<div>1. socket 생성: socket.socket(socket.AF_INET, <b>socket.SOCK_DGRAM</b>), TCP는 socket.SOCK_STREAM</div>\n",
    "<div>2. 포트 연결(bind): socket.bind((IP주소, 포트번호))</div>\n",
    "<div style=\"text-decoration:line-through\">3. 클라이언트 접속 대기: socket.listen()</div>\n",
    "<div style=\"text-decoration:line-through\">4. 클라이언트 접속시, 해당 클라이언트를 위한 소켓 생성: socket.accept()</div>\n",
    "<div>3. 클라이언트로부터 UDP 데이터 (데이터그램) 수신: <b>socket.recvfrom()</b>, TCP는 socket.recv()</div>\n",
    "<div>4. 클라이언트에 UDP 데이터 (데이터그램) 송신: <b>socket.sendto()</b>, TCP는 socket.sendall()</div>\n",
    "<div>5. 소켓 닫기: socket.close()</div>"
   ]
  },
  {
   "cell_type": "code",
   "execution_count": null,
   "metadata": {},
   "outputs": [],
   "source": [
    "import socket"
   ]
  },
  {
   "cell_type": "code",
   "execution_count": null,
   "metadata": {},
   "outputs": [],
   "source": [
    "server_socket = socket.socket(socket.AF_INET, socket.SOCK_DGRAM)"
   ]
  },
  {
   "cell_type": "code",
   "execution_count": null,
   "metadata": {},
   "outputs": [],
   "source": [
    "server_socket.bind(('127.0.0.1', 8888))"
   ]
  },
  {
   "cell_type": "code",
   "execution_count": null,
   "metadata": {},
   "outputs": [],
   "source": [
    "data, addr = server_socket.recvfrom(1024)"
   ]
  },
  {
   "cell_type": "code",
   "execution_count": null,
   "metadata": {},
   "outputs": [],
   "source": [
    "server_socket.close()"
   ]
  },
  {
   "cell_type": "markdown",
   "metadata": {},
   "source": [
    "### UDP 클라이언트 사이드 소켓 프로그래밍\n",
    "<div>1. socket 생성: socket.socket(socket.AF_INET, <b>socket.SOCK_DGRAM</b>), TCP는 socket.SOCK_STREAM</div>\n",
    "<div style=\"text-decoration:line-through\">2. 서버 접속: socket.connect((IP주소, 포트번호))</div>\n",
    "<div>2. 서버에 UDP 데이터 (데이터그램) 송신: <b>socket.sendto()</b>, TCP는 socket.sendall()</div>\n",
    "<div>3. 서버로부터 UDP 데이터 (데이터그램) 수신: <b>socket.recvfrom()</b>, TCP는 socket.recv()</div>\n",
    "<div>4. 소켓 닫기: socket.close()</div>"
   ]
  },
  {
   "cell_type": "code",
   "execution_count": null,
   "metadata": {},
   "outputs": [],
   "source": [
    "client_socket = socket.socket(socket.AF_INET, socket.SOCK_DGRAM)"
   ]
  },
  {
   "cell_type": "code",
   "execution_count": null,
   "metadata": {},
   "outputs": [],
   "source": [
    "dest = ('127.0.0.1', 8888)\n",
    "data = 'Hello I am Client'\n",
    "client_socket.sendto(data.encode(), dest)"
   ]
  },
  {
   "cell_type": "code",
   "execution_count": null,
   "metadata": {},
   "outputs": [],
   "source": [
    "client_socket.close()"
   ]
  },
  {
   "cell_type": "markdown",
   "metadata": {},
   "source": [
    "### 참고: UDP broadcast 사용하기"
   ]
  },
  {
   "cell_type": "markdown",
   "metadata": {},
   "source": [
    "1. ifconfig 또는 ipconfig 으로 broadcast 주소 확인하기\n",
    "\n",
    "2. server 단 bind 코드 수정하기\n",
    "   - bind의 IP를 '' 으로 놓아서, 어느 IP의 데이터든 수신가능토록 수정\n",
    "```\n",
    "server_socket.bind(('', 9998))\n",
    "```\n",
    "\n",
    "3. client 단 UDP broadcast 데이터 전송을 위해 다음 설정이 필요함\n",
    "   - 다음 설정이 없을 경우, 허용된 권한이 아니라는 의미로 Permission Denied 에러가 남\n",
    "```\n",
    "client_socket.setsockopt(socket.SOL_SOCKET, socket.SO_BROADCAST, 1)\n",
    "```"
   ]
  }
 ],
 "metadata": {
  "kernelspec": {
   "display_name": "Python 3",
   "language": "python",
   "name": "python3"
  },
  "language_info": {
   "codemirror_mode": {
    "name": "ipython",
    "version": 3
   },
   "file_extension": ".py",
   "mimetype": "text/x-python",
   "name": "python",
   "nbconvert_exporter": "python",
   "pygments_lexer": "ipython3",
   "version": "3.7.4"
  }
 },
 "nbformat": 4,
 "nbformat_minor": 2
}
