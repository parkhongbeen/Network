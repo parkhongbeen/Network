{
 "cells": [
  {
   "cell_type": "markdown",
   "metadata": {},
   "source": [
    "### 소켓 프로그래밍\n",
    "- 네트워크 프로그래밍을 위한 기본 API\n",
    "- 소켓: 일종의 데이터 통로를 만들어주는 API\n",
    "\n",
    "#### TCP 소켓 프로그래밍\n",
    "1. socket생성: socket.socket(socket.AF_INET, socket.SOCK_STREAM)\n",
    "2. 포트연결(bind):socket.bind((IP주소, 포트번호))\n",
    "3. 클라이언트 접속 대기: socket.listen()\n",
    "4. 클라이언트 접속시, 해당 클라이언트를 위한 소켓 생성:socket.accept()\n",
    "5. 클라이언트로부터 데이터 수신: socket.recv()\n",
    "6. 클라이언트에 데이터 송신: socket.sendall()\n",
    "7. 소켓 닫기: socket.close()"
   ]
  },
  {
   "cell_type": "code",
   "execution_count": 1,
   "metadata": {},
   "outputs": [],
   "source": [
    "import socket"
   ]
  },
  {
   "cell_type": "markdown",
   "metadata": {},
   "source": [
    "1. socket생성"
   ]
  },
  {
   "cell_type": "code",
   "execution_count": 2,
   "metadata": {},
   "outputs": [],
   "source": [
    "# socket.AF_INET: IPv4, socket.AF_INET6: IPv6\n",
    "# socket.SOCK_STREAM: TCP, socket.SOCK_DGRAM: UDP\n",
    "server_socket = socket.socket(socket.AF_INET, socket.SOCK_STREAM)"
   ]
  },
  {
   "cell_type": "markdown",
   "metadata": {},
   "source": [
    "2. binding:포트 연결"
   ]
  },
  {
   "cell_type": "code",
   "execution_count": 4,
   "metadata": {},
   "outputs": [],
   "source": [
    "server_socket.bind(('127.0.0.1', 9999))"
   ]
  },
  {
   "cell_type": "markdown",
   "metadata": {},
   "source": [
    "3. 클라이언트 접속 대기"
   ]
  },
  {
   "cell_type": "code",
   "execution_count": 5,
   "metadata": {},
   "outputs": [],
   "source": [
    "server_socket.listen()"
   ]
  },
  {
   "cell_type": "markdown",
   "metadata": {},
   "source": [
    "4. 클라이언트 접속시, 해당 클라이언트를 위한 소켓 생성"
   ]
  },
  {
   "cell_type": "code",
   "execution_count": 6,
   "metadata": {},
   "outputs": [],
   "source": [
    "client_socket, addr = server_socket.accept()"
   ]
  },
  {
   "cell_type": "code",
   "execution_count": 7,
   "metadata": {},
   "outputs": [
    {
     "data": {
      "text/plain": [
       "<socket.socket fd=58, family=AddressFamily.AF_INET, type=SocketKind.SOCK_STREAM, proto=0, laddr=('127.0.0.1', 9999), raddr=('127.0.0.1', 52210)>"
      ]
     },
     "execution_count": 7,
     "metadata": {},
     "output_type": "execute_result"
    }
   ],
   "source": [
    "client_socket"
   ]
  },
  {
   "cell_type": "code",
   "execution_count": 8,
   "metadata": {},
   "outputs": [
    {
     "data": {
      "text/plain": [
       "('127.0.0.1', 52210)"
      ]
     },
     "execution_count": 8,
     "metadata": {},
     "output_type": "execute_result"
    }
   ],
   "source": [
    "addr"
   ]
  },
  {
   "cell_type": "markdown",
   "metadata": {},
   "source": [
    "5. 클라이언트로부터 데이터 수신"
   ]
  },
  {
   "cell_type": "code",
   "execution_count": 10,
   "metadata": {},
   "outputs": [],
   "source": [
    "# recv(한 번에 수신할 수 있는 최대 데이터 사이즈)\n",
    "# 보통 한 번에 수신할 수 있는 최대 데이터 사이즈는 \n",
    "# 하드웨어와 네트워크에 맞추기 위해 2의 배수로 작성\n",
    "data = client_socket.recv(1024)"
   ]
  },
  {
   "cell_type": "code",
   "execution_count": 12,
   "metadata": {},
   "outputs": [
    {
     "data": {
      "text/plain": [
       "'Hello TCP Socket!?'"
      ]
     },
     "execution_count": 12,
     "metadata": {},
     "output_type": "execute_result"
    }
   ],
   "source": [
    "# 0과 1로 이루어진 byte 형태를 사람이 인지할 수 있는 \n",
    "# 인코딩형태로 변경해주기 위해 decode(인코딩타입) 을 사용\n",
    "data.decode('utf-8')"
   ]
  },
  {
   "cell_type": "markdown",
   "metadata": {},
   "source": [
    "6. 클라이언트에 데이터 송신\n",
    "    - sendall()함수는 모든 데이터가 전송될때까지 계속 전송함"
   ]
  },
  {
   "cell_type": "code",
   "execution_count": 13,
   "metadata": {},
   "outputs": [],
   "source": [
    "client_socket.sendall(data)"
   ]
  },
  {
   "cell_type": "markdown",
   "metadata": {},
   "source": [
    "7. socket닫기"
   ]
  },
  {
   "cell_type": "code",
   "execution_count": 15,
   "metadata": {},
   "outputs": [],
   "source": [
    "client_socket.close()\n",
    "server_socket.close()"
   ]
  },
  {
   "cell_type": "markdown",
   "metadata": {},
   "source": [
    "#### TCP 클라이언트 사이드 소켓 프로그래밍\n",
    "1. socket 생성: socket.socket(socket.AF_INET, socket.SOCK_STREAM)\n",
    "2. 서버 접속: socket.connect((IP주소, 포트번호))\n",
    "3. 서버에 데이터 송신: socket.sendall()\n",
    "4. 서버로부터 데이터 수신: socket.recv()\n",
    "5. 소켓 닫기: socket.close()"
   ]
  },
  {
   "cell_type": "markdown",
   "metadata": {},
   "source": [
    "1. socket 생성"
   ]
  },
  {
   "cell_type": "code",
   "execution_count": 16,
   "metadata": {},
   "outputs": [],
   "source": [
    "# socket.AF_INET: IPv4, socket.AF_INET6: IPv6\n",
    "# socket.SOCK_STREAM: TCP, socket.SOCK_DGRAM: UDP\n",
    "client_socket = socket.socket(socket.AF_INET, socket.SOCK_STREAM)"
   ]
  },
  {
   "cell_type": "markdown",
   "metadata": {},
   "source": [
    "2. 서버 접속"
   ]
  },
  {
   "cell_type": "code",
   "execution_count": 17,
   "metadata": {},
   "outputs": [
    {
     "ename": "AttributeError",
     "evalue": "'socket' object has no attribute 'connet'",
     "output_type": "error",
     "traceback": [
      "\u001b[0;31m---------------------------------------------------------------------------\u001b[0m",
      "\u001b[0;31mAttributeError\u001b[0m                            Traceback (most recent call last)",
      "\u001b[0;32m<ipython-input-17-812b64b99f1a>\u001b[0m in \u001b[0;36m<module>\u001b[0;34m\u001b[0m\n\u001b[0;32m----> 1\u001b[0;31m \u001b[0mclient_socket\u001b[0m\u001b[0;34m.\u001b[0m\u001b[0mconnet\u001b[0m\u001b[0;34m(\u001b[0m\u001b[0;34m(\u001b[0m\u001b[0;34m'127.0.0.1'\u001b[0m\u001b[0;34m,\u001b[0m \u001b[0;36m9999\u001b[0m\u001b[0;34m)\u001b[0m\u001b[0;34m)\u001b[0m\u001b[0;34m\u001b[0m\u001b[0;34m\u001b[0m\u001b[0m\n\u001b[0m",
      "\u001b[0;31mAttributeError\u001b[0m: 'socket' object has no attribute 'connet'"
     ]
    }
   ],
   "source": [
    "client_socket.connet(('127.0.0.1', 9999))"
   ]
  },
  {
   "cell_type": "markdown",
   "metadata": {},
   "source": [
    "3. 서버에 데이터 송신\n",
    "    - sendall()함수는 모든 데이터가 전송될때까지 계속 전송함"
   ]
  },
  {
   "cell_type": "code",
   "execution_count": null,
   "metadata": {},
   "outputs": [],
   "source": [
    "client_socket.sendall(data)"
   ]
  },
  {
   "cell_type": "markdown",
   "metadata": {},
   "source": [
    "4. 서버로부터 데이터 수신"
   ]
  },
  {
   "cell_type": "code",
   "execution_count": null,
   "metadata": {},
   "outputs": [],
   "source": [
    "# recv(한 번에 수신할 수 있는 최대 데이터 사이즈)\n",
    "# 보통 한 번에 수신할 수 있는 최대 데이터 사이즈는 하드웨어와\n",
    "# 네트워크에 맞추기 위해 2의 배수로 작성\n",
    "client_socket.recv(1024)"
   ]
  },
  {
   "cell_type": "markdown",
   "metadata": {},
   "source": [
    "4. 소켓 닫기"
   ]
  },
  {
   "cell_type": "code",
   "execution_count": null,
   "metadata": {},
   "outputs": [],
   "source": [
    "client_socket.close()"
   ]
  },
  {
   "cell_type": "markdown",
   "metadata": {},
   "source": [
    "### 팁:특정 포트 사용 프로세스 종료하기\n",
    "sudo lsof -i : 포트번호\n",
    "\n",
    "sudo kill -9 프로세스번호"
   ]
  },
  {
   "cell_type": "markdown",
   "metadata": {},
   "source": [
    "### UDP 소켓 프로그래밍\n",
    "\n",
    "#### UDP 서버 사이드 소켓 프로그래밍\n",
    "1. socket 생성: socket.socket(socket.AF_INET, socket.SOCK_DGRAM), TCP는 socket.SOCK_STREAM\n",
    "2. 포트 연결(bind): socket.bind((IP주소, 포트번호))\n",
    "3. 클라이언트 접속 대기: socket.listen()\n",
    "4. 클라이언트 접속시, 해당 클라이언트를 위한 소켓 생성: socket.accept()\n",
    "3. 클라이언트로부터 UDP 데이터 (데이터그램) 수신: socket.recvfrom(), TCP는 socket.recv()\n",
    "4. 클라이언트에 UDP 데이터 (데이터그램) 송신: socket.sendto(), TCP는 socket.sendall()\n",
    "5. 소켓 닫기: socket.close()"
   ]
  },
  {
   "cell_type": "code",
   "execution_count": null,
   "metadata": {},
   "outputs": [],
   "source": [
    "import socket"
   ]
  },
  {
   "cell_type": "code",
   "execution_count": null,
   "metadata": {},
   "outputs": [],
   "source": [
    "server_socket = socket.socket(socket.AF_INET, socket.SOCK_DGRAM)"
   ]
  },
  {
   "cell_type": "code",
   "execution_count": null,
   "metadata": {},
   "outputs": [],
   "source": [
    "server_socket.bind(('127.0.0.1', 9999))"
   ]
  },
  {
   "cell_type": "code",
   "execution_count": null,
   "metadata": {},
   "outputs": [],
   "source": [
    "data, addr = server_socket.recvfrom(1024)"
   ]
  },
  {
   "cell_type": "code",
   "execution_count": null,
   "metadata": {},
   "outputs": [],
   "source": [
    "server_socket.close()"
   ]
  },
  {
   "cell_type": "code",
   "execution_count": null,
   "metadata": {},
   "outputs": [],
   "source": [
    "### UDP 클라이언트 사이드 소켓 프로그램ㅇ\n",
    "\n",
    "1. socket 생성: socket.socket(socket.AF_INET,socket.SOCK_DGRAM), TCP는 socket.SOCK_STREAM\n",
    "2. 서버 접속: socket.connect((IP주소, 포트번호))\n",
    "2. 서버에 UDP 데이터 (데이터그램) 송신: socket.sendto()</b>, TCP는 socket.sendall()\n",
    "3. 서버로부터 UDP 데이터 (데이터그램) 수신: socket.recvfrom()</b>, TCP는 socket.recv()</div>\n",
    "4. 소켓 닫기: socket.close()"
   ]
  },
  {
   "cell_type": "code",
   "execution_count": null,
   "metadata": {},
   "outputs": [],
   "source": []
  },
  {
   "cell_type": "code",
   "execution_count": null,
   "metadata": {},
   "outputs": [],
   "source": []
  },
  {
   "cell_type": "code",
   "execution_count": null,
   "metadata": {},
   "outputs": [],
   "source": []
  }
 ],
 "metadata": {
  "kernelspec": {
   "display_name": "Python 3",
   "language": "python",
   "name": "python3"
  },
  "language_info": {
   "codemirror_mode": {
    "name": "ipython",
    "version": 3
   },
   "file_extension": ".py",
   "mimetype": "text/x-python",
   "name": "python",
   "nbconvert_exporter": "python",
   "pygments_lexer": "ipython3",
   "version": "3.7.4"
  }
 },
 "nbformat": 4,
 "nbformat_minor": 4
}
