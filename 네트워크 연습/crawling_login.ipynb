{
 "cells": [
  {
   "cell_type": "markdown",
   "metadata": {},
   "source": [
    "## HTTP 프로토콜\n",
    "\n",
    "* header/body 로 이루어짐\n",
    "  - 로그인이 필요한 페이지의 경우, header에 특별한 정보를 정해진 포멧에 따라 넣어서 요청함\n",
    "    - 쿠키 또는 세션\n"
   ]
  },
  {
   "cell_type": "markdown",
   "metadata": {},
   "source": [
    "## 쿠키(Cookie)와 세션(Session)\n",
    " - HTTP Request 를 전송하면, 서버는 HTML 파일을 전달하고, 해당 요청은 완료된다.\n",
    " - HTTP 프로토콜은 연결을 유지하기 어려운 구조로 되어 있음<br>\n",
    "   . 요청-응답 후 연결이 끊기는 구조(사용자 입력 정보등 상태 정보 활용이 어려운 구조임)\n",
    " - 상태 관리 정보를 저장하는 방식으로 쿠키(cookie)와 세션(session) 기법이 나옴\n",
    "\n",
    " <img src=\"https://www.fun-coding.org/00_Images/cookie_session.png\" />\n",
    "\n",
    "### 쿠키(cookie): 상태 정보를 클라이언트에 저장하는 방식\n",
    " 1. HTML 페이지를 웹 서버에 요청\n",
    " 2. 웹 서버에서 쿠키(cookie) 생성\n",
    " 3. 웹 서버 응답(HTML 페이지를 돌려줄 때) HTTP 헤더에 쿠키를 포함해서 전송 \n",
    "``` \n",
    "Set−Cookie: id=korea123\n",
    "``` \n",
    " 4. 전달받은 쿠키는 웹브라우저에서 관리하고 있다가, 다음 요청 때 쿠키를 함께 전송\n",
    "```\n",
    "Cookie: id=korea123\n",
    "```\n",
    " 5. 서버에서는 쿠키 정보를 읽어 이전 상태 정보를 확인\n",
    " 6. 필요시 서버가 쿠키 정보를 변경해서 응답시 변경된 쿠키와 함께 응답"
   ]
  },
  {
   "cell_type": "markdown",
   "metadata": {},
   "source": [
    "### 세션(session): 상태 정보를 웹 서버에 저장하는 방식\n",
    "1. 웹브라우저가 웹 서버에 요청하게 되면, 웹 서버가 해당 웹브라우저(클라이언트)에 유일한 ID(세션 ID)를 부여함\n",
    "2. 해당 세션 ID는 응답(HTML 페이지를 돌려줄 때) HTTP 헤더에 넣어져 전달된다.\n",
    "``` \n",
    "Set−Cookie: PHPSESSID=pi0fo9v2kdi5nuha3bcgiu8fq2\n",
    "``` \n",
    "3. 웹브라우저는 이후 웹브라우저를 닫기 까지 해당 웹 서버 요청할 때 부여된 세션 ID를 HTTP 헤더에 넣어서 전달한다.\n",
    "``` \n",
    "Cookie: PHPSESSID=pi0fo9v2kdi5nuha3bcgiu8fq2\n",
    "``` \n",
    "4. 웹 서버는 세션 ID를 확인하고, 해당 세션에 관련된 정보를 확인한 후, HTML 페이지를 돌려준다."
   ]
  },
  {
   "cell_type": "markdown",
   "metadata": {},
   "source": [
    "### 로그인이 필요한 웹페이지 크롤링\n",
    "1. 로그인이 필요한 웹페이지 요청시, 어떤 추가 정보가 함께 전송되는지 파악\n",
    "   - 쿠키 또는 세션\n",
    "2. 해당 추가 정보를 어떻게 크롤링시, 함께 요청을 할지를 코드레벨로 파악하기"
   ]
  },
  {
   "cell_type": "markdown",
   "metadata": {},
   "source": [
    "## 한빛미디어 사이트 분석\n",
    "1. 로그인할 때, ID/PW를 넣고, 요청\n",
    "2. 서버에서 ID/PW가 맞는지 확인하고, 이에 맞는 세션값을 응답헤더에 넣어서 전송\n",
    "3. 웹브라우저가 해당 응답헤더에서 세션값을 찾아서, 이후에 해당 사이트 요청시에는 세션값을 함께 전송\n",
    "4. 서버에서 해당 세션값에 맞는 ID를 확인하고, 해당 ID에 맞는 웹페이지를 응답바디에 넣어서 전송\n",
    "5. 웹브라우저가 해당 웹페이지를 보여줌"
   ]
  },
  {
   "cell_type": "markdown",
   "metadata": {},
   "source": [
    "<div class=\"alert alert-block alert-success\">\n",
    "**<font color=\"blue\" size=\"4em\">실습 (세션에 대한 기본 이해)</font>**<br>\n",
    " 1. [한빛미디어 회원가입](http://www.hanbit.co.kr/member/member_agree.html)<br>\n",
    " 2. 크롬(Chrome) 브라우저로 www.hanbit.co.kr 페이지 오픈 후<br>\n",
    "    - alt + command + i (맥북), F12 (윈도우) 누르고 Application -> Cookies -> http://www.hanbit.co.kr 이동<br>\n",
    "    - PHPSESSID 확인<br>\n",
    " 3. 한빛미디어 로그인 후<br>\n",
    "    - PHPSESSID 값을 임의 값으로 수정<br>\n",
    " 4. 마이한빛 메뉴 클릭 <br>\n",
    " <br>\n",
    " X PHPSESSID 값을 임의 값으로 수정했기 때문에, 로그인 정보가 필요한 마이한빛 페이지 오픈시, 서버측에서 해당 로그인 정보가 없으므로<br>\n",
    " 로그인을 하라는 페이지로 이동함\n",
    "</div>"
   ]
  },
  {
   "cell_type": "markdown",
   "metadata": {},
   "source": [
    "### 유추하는데 도움이 되는 툴 \n",
    "  - Chrome 개발자 도구 -> Network -> Check 'Preserver log' and Select 'Doc'\n",
    "    1. Go www.hanbit.co.kr/index.html\n",
    "    2. Add ID/PW and click 로그인\n",
    "  - login.html -> login_proc.php -> index.html 로 호출됨을 확인할 수 있음\n",
    "  - login_proc.php Request Method가 POST 이고, FORM 데이터에서 m_id, m_passwd 를 확인할 수 있음"
   ]
  },
  {
   "cell_type": "code",
   "execution_count": 4,
   "metadata": {},
   "outputs": [],
   "source": [
    "import requests\n",
    "from bs4 import BeautifulSoup\n",
    "\n",
    "login_url = 'http://www.hanbit.co.kr/member/login_proc.php'\n",
    "crawl_url = 'http://www.hanbit.co.kr/myhanbit/myhanbit.html'\n",
    "\n",
    "# 세션 생성\n",
    "session = requests.session()\n",
    "\n",
    "params = dict()\n",
    "params['m_id'] = ''            # 자신의 아이디\n",
    "params['m_passwd'] = ''  # 자신의 패스워드\n",
    "\n",
    "# 해당 세션에 POST 요청\n",
    "res = session.post(login_url, data=params)\n",
    "\n",
    "# 요청에 대한 응답 결과가 200 OK 가 나오지 않을 경우 다음 함수에서 바로 프로그램 종료됨\n",
    "res.raise_for_status()\n",
    "\n",
    "# 해당 세션으로 GET 요청 (이전 POST를 통해 받은 세션 쿠키값이 GET 요청시 추가되어 전송되므로 로그인된 상태의 요청과 동일하게 됨)\n",
    "res = session.get(crawl_url)\n",
    "# 응답 받은 HTML 파일 파싱\n",
    "soup = BeautifulSoup(res.content, 'html.parser')\n",
    "\n",
    "# 응답 받은 HTML 파일 중 마일리지 정보 테그를 CSS selector로 추출\n",
    "data = soup.select('div.sm_mymileage > dl.mileage_section1 dd')\n",
    "\n",
    "# select() 를 호출했으므로, data 는 리스트타입, 그래서 data를 for 문에 넣어서 각 아이템을 가져와서 출력하면 됨 (여기서는 결국 해당 리스트에는 하나의 아이템만 있을 것임)\n",
    "for item in data:\n",
    "    print (item.get_text())"
   ]
  },
  {
   "cell_type": "code",
   "execution_count": 7,
   "metadata": {},
   "outputs": [
    {
     "name": "stdout",
     "output_type": "stream",
     "text": [
      "[]\n"
     ]
    }
   ],
   "source": [
    "print(data)"
   ]
  },
  {
   "cell_type": "code",
   "execution_count": null,
   "metadata": {},
   "outputs": [],
   "source": []
  }
 ],
 "metadata": {
  "kernelspec": {
   "display_name": "Python 3",
   "language": "python",
   "name": "python3"
  },
  "language_info": {
   "codemirror_mode": {
    "name": "ipython",
    "version": 3
   },
   "file_extension": ".py",
   "mimetype": "text/x-python",
   "name": "python",
   "nbconvert_exporter": "python",
   "pygments_lexer": "ipython3",
   "version": "3.7.4"
  },
  "nbTranslate": {
   "displayLangs": [
    "*"
   ],
   "hotkey": "alt-t",
   "langInMainMenu": true,
   "sourceLang": "en",
   "targetLang": "fr",
   "useGoogleTranslate": true
  }
 },
 "nbformat": 4,
 "nbformat_minor": 1
}
