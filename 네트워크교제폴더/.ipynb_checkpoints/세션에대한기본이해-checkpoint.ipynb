{
 "cells": [
  {
   "cell_type": "markdown",
   "metadata": {},
   "source": [
    "### 실습(세션에 대한 기본 이해)\n",
    "1. [한빛미디어 회원가입](http://www.hanbit.co.kr/member/member_agree.html)\n",
    "2. 크롬(Chrome) 브라우저로 www.hanbit.co.kr 페이지 오픈 후\n",
    "- alt + command + i (맥북), F12 (윈도우) 누르고 Application -> Cookies -> http://www.hanbit.co.kr 이동\n",
    "- PHPSESSID 확인\n",
    "3. 한빛미디어 로그인 후\n",
    "- PHPSESSID 값을 임의 값으로 수정\n",
    "4. 마이한빛 메뉴 클릭\n",
    "\n",
    "X PHPSESSID 값을 임의 값으로 수정했기 때문에, 로그인 정보가 필요한 마이한빛 페이지 오픈시, 서버측에서 해당 로그인 정보가 없으므로\n",
    "로그인을 하라는 페이지로 이동함\n",
    "\n",
    "\n",
    "#### 유추하는데 도움되는 툴\n",
    "- Chrome 개발자 도구 -> Network -> Check 'Preserver log' and Select 'Doc'\n",
    " 1. Go www.hanbit.co.kr/index.html\n",
    " 2. Add ID/PW and click 로그인\n",
    "- login.html -> login_proc.php -> index.html 로 호출됨을 확인할 수 있음\n",
    "- login_proc.php Request Method가 POST 이고, FORM 데이터에서 m_id, m_passwd 를 확인할 수 있음"
   ]
  },
  {
   "cell_type": "code",
   "execution_count": 1,
   "metadata": {},
   "outputs": [
    {
     "name": "stdout",
     "output_type": "stream",
     "text": [
      "2,000 점\n"
     ]
    }
   ],
   "source": [
    "import requests\n",
    "from bs4 import BeautifulSoup\n",
    "\n",
    "login_url='https://www.hanbit.co.kr/member/login_proc.php'\n",
    "crawl_url='http://www.hanbit.co.kr/myhanbit/myhanbit.html'\n",
    "\n",
    "#세션 생성\n",
    "session = requests.session()\n",
    "\n",
    "params= dict()\n",
    "# 내 아이디\n",
    "params['m_id'] = 'pack122' \n",
    "# 내 패스워드\n",
    "params['m_passwd'] = 'hong1065' \n",
    "\n",
    "# 해당세션에 포스트를 요청\n",
    "res = session.post(login_url, data=params) \n",
    "# 요청에 대한 응답결과가 200ok가 나오지 않을 경우 다음 \n",
    "# 함수에서 바로 프로그램 종료\n",
    "res.raise_for_status() \n",
    "\n",
    "# 위에서 login할 때 저장한 값을 갖고 있음\n",
    "res = session.get(crawl_url)\n",
    "# 응답받은 HTML파일 파싱\n",
    "soup = BeautifulSoup(res.content, 'html.parser')\n",
    "\n",
    "# 응답받은 HTML파일 중 마일리지 정보태그를 추출\n",
    "data = soup.select('div.sm_mymileage > dl.mileage_section1 dd')\n",
    "# select()를 호출했으므로, data는 list타입,\n",
    "# 그래서 data를 for문에 넣어서 각 아이템을 가져와서 출력하면 됨\n",
    "# (여기서는 결국 해당 리스트에는 하나의 아이템만 존재)\n",
    "for item in data:\n",
    "    print(item.get_text())"
   ]
  },
  {
   "cell_type": "code",
   "execution_count": null,
   "metadata": {},
   "outputs": [],
   "source": []
  }
 ],
 "metadata": {
  "kernelspec": {
   "display_name": "Python 3",
   "language": "python",
   "name": "python3"
  },
  "language_info": {
   "codemirror_mode": {
    "name": "ipython",
    "version": 3
   },
   "file_extension": ".py",
   "mimetype": "text/x-python",
   "name": "python",
   "nbconvert_exporter": "python",
   "pygments_lexer": "ipython3",
   "version": "3.7.4"
  }
 },
 "nbformat": 4,
 "nbformat_minor": 4
}
