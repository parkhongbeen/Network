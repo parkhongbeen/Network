{
 "cells": [
  {
   "cell_type": "markdown",
   "metadata": {},
   "source": [
    "### 1. HTTP 웹서버 만들기"
   ]
  },
  {
   "cell_type": "markdown",
   "metadata": {},
   "source": [
    "1. TCP/IP 프로토콜을 사용하는 12345 포트로 데이터 수신 받기 (1024 byte)"
   ]
  },
  {
   "cell_type": "code",
   "execution_count": null,
   "metadata": {},
   "outputs": [],
   "source": [
    "import socket\n",
    "\n",
    "server_socket = socket.socket(socket.AF_INET, socket.SOCK_STREAM)\n",
    "\n",
    "server_socket.bind(('localhost', 12345))\n",
    "server_socket.listen()\n",
    "\n",
    "client_socket, addr = server_socket.accept()\n",
    "data = client_socket.recv(1024)\n",
    "\n",
    "print(data.decode())\n",
    "client_socket.close()\n",
    "server_socket.close()"
   ]
  },
  {
   "cell_type": "markdown",
   "metadata": {},
   "source": [
    "2. 웹브라우저를 오픈하고, 개발한 코드에서 선언한 주소로 접속하기\n",
    "   - 수신된 메세지를 다음 셀에 기재해보기"
   ]
  },
  {
   "cell_type": "markdown",
   "metadata": {},
   "source": [
    "<pre>\n",
    "GET / HTTP/1.1\n",
    "Host: localhost:12345\n",
    "Connection: keep-alive\n",
    "Upgrade-Insecure-Requests: 1\n",
    "User-Agent: Mozilla/5.0 (Macintosh; Intel Mac OS X 10_15_3) AppleWebKit/537.36 (KHTML, like Gecko) Chrome/80.0.3987.106 Safari/537.36\n",
    "Sec-Fetch-Dest: document\n",
    "Accept: text/html,application/xhtml+xml,application/xml;q=0.9,image/webp,image/apng,*/*;q=0.8,application/signed-exchange;v=b3;q=0.9\n",
    "Sec-Fetch-Site: none\n",
    "Sec-Fetch-Mode: navigate\n",
    "Sec-Fetch-User: ?1\n",
    "Accept-Encoding: gzip, deflate, br\n",
    "Accept-Language: ko-KR,ko;q=0.9,en-US;q=0.8,en;q=0.7\n",
    "Cookie: _xsrf=2|7f9b9d26|f7b1131641ab842fd74a6e4a51ce80c2|1580088082; _ga=GA1.1.730489107.1580096592; __gads=ID=3a7c7add85ca2b3a:T=1580097186:S=ALNI_Mb10NCteArpZBg05LiIH5zo3gOClQ; __atuvc=116%7C5%2C23%7C6; username-localhost-8889=\"2|1:0|10:1581127829|23:username-localhost-8889|44:ZjU0MjNkMWYzMmI1NDA0ZDhmNTY4ODMxMmRjYTlhNjA=|af5b62d56f15f5ac1605f0e8ac3d7ba87d433328c3975b462af73ae0f6f21a18\"; username-localhost-8888=\"2|1:0|10:1581731347|23:username-localhost-8888|44:NzNkNzNjZT\n",
    "</pre>"
   ]
  },
  {
   "cell_type": "markdown",
   "metadata": {},
   "source": [
    "3. 웹브라우저를 오픈하고, 개발한 코드에서 선언한 주소로 접속하면, Hello FastCampus WebServer 라는 문구가 웹브라우저에 뜰 수 있도록 웹서버 구현하기\n",
    "   - 참고: HTTP Response 간단히 만들기\n",
    "     <pre>\n",
    "    data = \"HTTP/1.1 200 OK\\r\\n\"\n",
    "    data += \"Content-Type: text/html; charset=utf-8\\r\\n\"\n",
    "    data += \"\\r\\n\"\n",
    "     </pre>\n",
    "   - 위와 같이 HTTP Response 헤더를 만든 후, data += HTML 데이터로 data를 구성하여, 클라이언트에 전송하면 됨"
   ]
  },
  {
   "cell_type": "code",
   "execution_count": null,
   "metadata": {},
   "outputs": [],
   "source": [
    "import socket\n",
    "\n",
    "def operate_web_server():\n",
    "    serversocket = socket.socket(socket.AF_INET, socket.SOCK_STREAM)\n",
    "\n",
    "    serversocket.bind(('localhost',9300))\n",
    "    serversocket.listen()\n",
    "\n",
    "    while True:\n",
    "        (clientsocket, address) = serversocket.accept()\n",
    "        rd = clientsocket.recv(5000).decode()\n",
    "        data = \"HTTP/1.1 200 OK\\r\\n\"\n",
    "        data += \"Content-Type: text/html; charset=utf-8\\r\\n\"\n",
    "        data += \"\\r\\n\"\n",
    "        data += \"<html><body><b>Channel List</b><br><br>\"\n",
    "        clientsocket.sendall(data.encode())\n",
    "        clientsocket.close()\n",
    "    serversocket.close()\n",
    "\n",
    "print('Access http://localhost:9300')\n",
    "operate_web_server()"
   ]
  },
  {
   "cell_type": "markdown",
   "metadata": {},
   "source": [
    "### 참고: \n",
    "- \\r : 탈출 문자(Escape Character)는 Carriage Return(CR)이란 의미\n",
    "- \\n : Line Feed(LF)란 의미\n",
    "- \\r\\n : 보통 텍스트 파일에서 줄을 바꿀 때\n",
    "\n",
    "<img src=\"https://www.fun-coding.org/00_Images/rl_typer.jpg\" />"
   ]
  },
  {
   "cell_type": "markdown",
   "metadata": {},
   "source": [
    "4. try-except 코드를 추가하고, jupyter notebook으로 종료할 수 있도록 만들기\n",
    "\n",
    "<pre>\n",
    "    import sys\n",
    "    \n",
    "    try:\n",
    "    except:\n",
    "        print(\"Unexpected error\")\n",
    "        for desc in sys.exc_info():\n",
    "            print (desc)\n",
    "    finally:\n",
    "        serversocket.close()\n",
    "</pre>"
   ]
  },
  {
   "cell_type": "code",
   "execution_count": 23,
   "metadata": {},
   "outputs": [
    {
     "name": "stdout",
     "output_type": "stream",
     "text": [
      "Start WebServer\n",
      "Unexpected error\n",
      "<class 'KeyboardInterrupt'>\n",
      "\n",
      "<traceback object at 0x111818af0>\n",
      "Stop WebServer\n"
     ]
    }
   ],
   "source": []
  },
  {
   "cell_type": "markdown",
   "metadata": {},
   "source": [
    "5. 서버 실행 및 임의 종료시 다음과 같은 형태로 서버 시작, 종료를 표시할 수 있도록 코드 개선하기\n",
    "\n",
    "```\n",
    "Start WebServer\n",
    "Unexpected error\n",
    "<class 'KeyboardInterrupt'>\n",
    "\n",
    "<traceback object at 0x111818af0>\n",
    "Stop WebServer\n",
    "```"
   ]
  },
  {
   "cell_type": "code",
   "execution_count": null,
   "metadata": {},
   "outputs": [],
   "source": []
  },
  {
   "cell_type": "markdown",
   "metadata": {},
   "source": [
    "6. 왜 프로그램 실행 종료 후, 재실행시 가끔 다음 에러나 나오는지 이해하기\n",
    "```\n",
    "Address already in use\n",
    "```\n",
    "<img src=\"https://www.fun-coding.org/00_Images/tcp_time_wait.png\" width=\"500\" />"
   ]
  },
  {
   "cell_type": "markdown",
   "metadata": {},
   "source": [
    "7. 프로그램 실행시, 위의 경우를 해결하기 위해, TCP 서버 강제 재실행 코드 넣어주기\n",
    "   - setsockopt\n",
    "     - 첫번째 인자: 소켓 레벨 - socket.SOL_SOCKET \n",
    "     - 두번째 인자: 소켓 레벨에서 변경 가능한 옵션 - 예) socket.SO_REUSEADDR (이미 bind 되어 있는 주소와 포트 재사용)\n",
    "     - 세번째 인자: 본래는 저수준 socket API 중 하나인, getsockopt 로 setsockopt에서 설정된 값을 읽을 때, 설정 값의 사이즈를 표기하는 것이지만, 보통 1로 설정\n",
    "\n",
    "```\n",
    "serversocket.setsockopt(socket.SOL_SOCKET, socket.SO_REUSEADDR, 1)\n",
    "serversocket.bind(('localhost',9300))\n",
    "```        "
   ]
  },
  {
   "cell_type": "code",
   "execution_count": 24,
   "metadata": {},
   "outputs": [
    {
     "name": "stdout",
     "output_type": "stream",
     "text": [
      "Start WebServer\n",
      "Unexpected error\n",
      "<class 'KeyboardInterrupt'>\n",
      "\n",
      "<traceback object at 0x1117fffa0>\n",
      "Stop WebServer\n"
     ]
    }
   ],
   "source": []
  },
  {
   "cell_type": "markdown",
   "metadata": {},
   "source": [
    "### 2. Mini-Slack 일부 기능 구현하기\n",
    "- 메세지 수신 채널 리스트 보여주는 페이지 만들기\n",
    "- 시나리오\n",
    "  - localhost:9300 으로 접속하면, redis pubsub 기능을 사용하여 메세지 수신 채널 리스트를 보여주는 웹페이지를 보여주기\n",
    "  - 다음과 같은 형태로 보여주기\n",
    "\n",
    "<pre>\n",
    "<b>Channel List</b>\n",
    "\n",
    "- announcement(2)\n",
    "- q&a(2)\n",
    "</pre>\n",
    "\n",
    "> 채널명(접속자수)\n",
    "\n",
    "\n",
    "- 참고\n",
    "  - redis 접속\n",
    "    ```\n",
    "    redis_ins = redis.Redis(host='localhost', port=6379)    \n",
    "    ```\n",
    "\n",
    "  - redis pubsub 접속 및 채널 이름 정보 가져오기\n",
    "    ```\n",
    "    pubsub_ins = redis_ins.pubsub()            \n",
    "    channels = redis_ins.pubsub_channels()\n",
    "    ```\n",
    "\n",
    "  - redis pubsub 채널 접속자 수 가져오기\n",
    "    ```\n",
    "    channel_status = redis_ins.pubsub_numsub(channel)\n",
    "    print(channel_status[0][1])\n",
    "    ```"
   ]
  },
  {
   "cell_type": "markdown",
   "metadata": {},
   "source": [
    "### 참고: redis 설치\n",
    "- 맥 또는 리눅스\n",
    "  - 윈도우 환경의 경우, AWS EC2에서 실행 권장\n",
    "\n",
    "\n",
    "- redis 설치\n",
    "  - 맥\n",
    "    ```\n",
    "    1. brew install redis    \n",
    "    2. brew services start redis\n",
    "    ```\n",
    "\n",
    "  - 리눅스\n",
    "    ```\n",
    "    1. sudo add-apt-repository ppa:chris-lea/redis-server\n",
    "    2. sudo apt-get update\n",
    "    3. sudo apt-get install redis-server\n",
    "       - redis client 도 함께 설치됨\n",
    "    4. sudo vi /etc/redis/redis.conf\n",
    "    5. #bind 127.0.0.1 -> bind 0.0.0.0 로 변경 후 저장\n",
    "    6. sudo systemctl start redis-server.service\n",
    "    7. redis-cli\n",
    "    8. $ ping\n",
    "       PONG\n",
    "    9. exit\n",
    "    10. sudo systemctl stop redis-server.service     # redis 서버 중지\n",
    "    11. sudo systemctl start redis-server.service    # redis 서버 시작\n",
    "    12. sudo systemctl start redis-server.service    # redis 서버 재시작    \n",
    "    ```\n",
    "\n",
    "- 파이썬 redis 라이브러리 설치\n",
    "  ```\n",
    "  pip install redis\n",
    "  ```"
   ]
  },
  {
   "cell_type": "code",
   "execution_count": 26,
   "metadata": {},
   "outputs": [
    {
     "name": "stdout",
     "output_type": "stream",
     "text": [
      "Start WebServer\n",
      "Unexpected error\n",
      "<class 'KeyboardInterrupt'>\n",
      "\n",
      "<traceback object at 0x1117ba320>\n",
      "Stop WebServer\n"
     ]
    }
   ],
   "source": []
  },
  {
   "cell_type": "markdown",
   "metadata": {},
   "source": [
    "### 3. Mini-Slack 일부 기능에 Multi Thread 지원하기\n",
    "- redis pubsub 채널 정보 확인 및 채널 리스트 페이지를 만들어 리턴해주는 기능을 쓰레드로 동작하도록 함\n",
    "- 수신 대기 및 클라이언트 접속을 처리해주는 부분과 웹페이지 요청 처리 부분을 분리하여 성능 개선"
   ]
  },
  {
   "cell_type": "code",
   "execution_count": 28,
   "metadata": {},
   "outputs": [
    {
     "name": "stdout",
     "output_type": "stream",
     "text": [
      "Start WebServer\n",
      "Unexpected error\n",
      "<class 'KeyboardInterrupt'>\n",
      "\n",
      "<traceback object at 0x11181f870>\n",
      "Stop WebServer\n"
     ]
    }
   ],
   "source": []
  },
  {
   "cell_type": "markdown",
   "metadata": {},
   "source": [
    "### 참고: Mini-Slack 채널 접속 및 수신 하기\n",
    "- 주요 코드\n",
    "  - redis.Redis(): default로 자기 PC에 있는 redis에 접속함\n",
    "  - pubsub(): pubsub 메커니즘을 사용하기 위한 인스턴스 생성\n",
    "  - subscribe(채널명=함수명): 해당 채널명으로 데이터 수신시, 명시된 함수를 호출\n",
    "  - run_in_thread(sleep_time=시간)\n",
    "    - 해당 채널명의 데이터 수신을 위해, 별도 쓰레드를 생성해서, 루프를 돌며 해당 채널의 데이터를 확인하는 기능\n",
    "    - sleep_time 명시를 통해서, 루프를 돌때, 일정시간 sleep 하여, 해당 채널 외에 프로세스가 처리해야하는 바를 처리함 (보통 0.001 로 넣음)"
   ]
  },
  {
   "cell_type": "code",
   "execution_count": null,
   "metadata": {},
   "outputs": [],
   "source": [
    "import time, redis, sys\n",
    "\n",
    "redis_ins = redis.Redis(host=REDIS_HOST_ADDR, port=6379)\n",
    "pubsub_ins = redis_ins.pubsub()\n",
    "\n",
    "def handler(message):\n",
    "    print(message['data'].decode('utf-8'))\n",
    "\n",
    "pubsub_ins.subscribe(my_channel=handler)\n",
    "thread = pubsub_ins.run_in_thread(sleep_time=0.001)"
   ]
  },
  {
   "cell_type": "markdown",
   "metadata": {},
   "source": [
    "### 참고: Mini-Slack 채널 송신 하기\n",
    "- 주요 코드\n",
    "  - redis.Redis(): default로 자기 PC에 있는 redis에 접속함\n",
    "  - pubsub(): pubsub 메커니즘을 사용하기 위한 인스턴스 생성\n",
    "  - publish(채널명, 데이터): 해당 채널명으로 데이터를 송신"
   ]
  },
  {
   "cell_type": "code",
   "execution_count": null,
   "metadata": {},
   "outputs": [],
   "source": [
    "import redis\n",
    "\n",
    "redis_ins = redis.Redis(host=REDIS_HOST_ADDR, port=6379)\n",
    "pubsub_ins = redis_ins.pubsub()\n",
    "\n",
    "redis_ins.publish('my_channel', 'example data')"
   ]
  }
 ],
 "metadata": {
  "kernelspec": {
   "display_name": "Python 3",
   "language": "python",
   "name": "python3"
  },
  "language_info": {
   "codemirror_mode": {
    "name": "ipython",
    "version": 3
   },
   "file_extension": ".py",
   "mimetype": "text/x-python",
   "name": "python",
   "nbconvert_exporter": "python",
   "pygments_lexer": "ipython3",
   "version": "3.7.4"
  }
 },
 "nbformat": 4,
 "nbformat_minor": 2
}
